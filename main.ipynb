{
 "cells": [
  {
   "cell_type": "markdown",
   "metadata": {},
   "source": [
    "# Scientific Computing Exercise Set 1\n",
    "\n",
    "## 1.1 Vibrating string"
   ]
  },
  {
   "cell_type": "code",
   "execution_count": null,
   "metadata": {},
   "outputs": [],
   "source": [
    "import numpy as np\n",
    "import matplotlib.pyplot as plt\n",
    "from matplotlib import animation\n",
    "from IPython.display import HTML\n",
    "\n",
    "\n",
    "from vibrating_string import *\n",
    "\n",
    "# Update font \n",
    "plt.rcParams.update({'animation.html': \"jshtml\"})\n",
    "\n",
    "\n",
    "times, solutions = solve_wave_equation(initial_condition= lambda x: np.sin(2*np.pi*x))\n",
    "fig, update, num_frames = plot_wave_solution(times, solutions)\n",
    "ani = animation.FuncAnimation(fig, update, frames=num_frames, interval=1, blit=True)\n",
    "HTML(ani.to_jshtml())\n",
    "\n",
    "times, solutions = solve_wave_equation(initial_condition= lambda x: np.sin(5*np.pi*x))\n",
    "fig, update, num_frames = plot_wave_solution(times, solutions)\n",
    "ani = animation.FuncAnimation(fig, update, frames=num_frames, interval=1, blit=True)\n",
    "HTML(ani.to_jshtml())\n",
    "\n",
    "initial_condition = lambda x: np.where((np.array(x) > 1/5) & (np.array(x) < 2/5), np.sin(5*np.pi*x), 0)\n",
    "times, solutions = solve_wave_equation(initial_condition = initial_condition)\n",
    "fig, update, num_frames = plot_wave_solution(times, solutions)\n",
    "ani = animation.FuncAnimation(fig, update, frames=num_frames, interval=1, blit=True)\n",
    "HTML(ani.to_jshtml())"
   ]
  },
  {
   "cell_type": "code",
   "execution_count": null,
   "metadata": {},
   "outputs": [],
   "source": []
  }
 ],
 "metadata": {
  "kernelspec": {
   "display_name": "sklearn-env",
   "language": "python",
   "name": "python3"
  },
  "language_info": {
   "codemirror_mode": {
    "name": "ipython",
    "version": 3
   },
   "file_extension": ".py",
   "mimetype": "text/x-python",
   "name": "python",
   "nbconvert_exporter": "python",
   "pygments_lexer": "ipython3",
   "version": "3.13.0"
  }
 },
 "nbformat": 4,
 "nbformat_minor": 2
}
